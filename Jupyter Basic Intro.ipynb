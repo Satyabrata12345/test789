{
 "cells": [
  {
   "cell_type": "code",
   "execution_count": 2,
   "id": "952ce145",
   "metadata": {},
   "outputs": [],
   "source": [
    "Satya=234.00907"
   ]
  },
  {
   "cell_type": "code",
   "execution_count": 4,
   "id": "79ed85cf",
   "metadata": {},
   "outputs": [
    {
     "data": {
      "text/plain": [
       "float"
      ]
     },
     "execution_count": 4,
     "metadata": {},
     "output_type": "execute_result"
    }
   ],
   "source": [
    "type(Satya)"
   ]
  },
  {
   "cell_type": "code",
   "execution_count": 5,
   "id": "17d61939",
   "metadata": {},
   "outputs": [],
   "source": [
    "A=\"asfdgfhgjh kghur\""
   ]
  },
  {
   "cell_type": "code",
   "execution_count": 6,
   "id": "2b3483d1",
   "metadata": {},
   "outputs": [
    {
     "data": {
      "text/plain": [
       "str"
      ]
     },
     "execution_count": 6,
     "metadata": {},
     "output_type": "execute_result"
    }
   ],
   "source": [
    "type(A)"
   ]
  },
  {
   "cell_type": "code",
   "execution_count": 7,
   "id": "06722207",
   "metadata": {},
   "outputs": [],
   "source": [
    "B='rtythf'"
   ]
  },
  {
   "cell_type": "code",
   "execution_count": 8,
   "id": "b4011535",
   "metadata": {},
   "outputs": [
    {
     "data": {
      "text/plain": [
       "str"
      ]
     },
     "execution_count": 8,
     "metadata": {},
     "output_type": "execute_result"
    }
   ],
   "source": [
    "type(B)"
   ]
  },
  {
   "cell_type": "code",
   "execution_count": 11,
   "id": "7b748d84",
   "metadata": {},
   "outputs": [],
   "source": [
    "a = Satya"
   ]
  },
  {
   "cell_type": "code",
   "execution_count": 12,
   "id": "4baa387d",
   "metadata": {},
   "outputs": [
    {
     "data": {
      "text/plain": [
       "float"
      ]
     },
     "execution_count": 12,
     "metadata": {},
     "output_type": "execute_result"
    }
   ],
   "source": [
    "type(a)"
   ]
  },
  {
   "cell_type": "code",
   "execution_count": 13,
   "id": "53d45bda",
   "metadata": {},
   "outputs": [
    {
     "data": {
      "text/plain": [
       "1"
      ]
     },
     "execution_count": 13,
     "metadata": {},
     "output_type": "execute_result"
    }
   ],
   "source": [
    "True - False"
   ]
  },
  {
   "cell_type": "code",
   "execution_count": 14,
   "id": "63a9066e",
   "metadata": {},
   "outputs": [],
   "source": [
    "e = False"
   ]
  },
  {
   "cell_type": "code",
   "execution_count": 15,
   "id": "3202d6c6",
   "metadata": {},
   "outputs": [
    {
     "data": {
      "text/plain": [
       "bool"
      ]
     },
     "execution_count": 15,
     "metadata": {},
     "output_type": "execute_result"
    }
   ],
   "source": [
    "type(e)"
   ]
  },
  {
   "cell_type": "code",
   "execution_count": 16,
   "id": "e4d64388",
   "metadata": {},
   "outputs": [],
   "source": [
    "A = Satya"
   ]
  },
  {
   "cell_type": "code",
   "execution_count": 17,
   "id": "bc32759b",
   "metadata": {},
   "outputs": [
    {
     "data": {
      "text/plain": [
       "float"
      ]
     },
     "execution_count": 17,
     "metadata": {},
     "output_type": "execute_result"
    }
   ],
   "source": [
    "type(A)"
   ]
  },
  {
   "cell_type": "code",
   "execution_count": 21,
   "id": "939eb584",
   "metadata": {},
   "outputs": [
    {
     "data": {
      "text/plain": [
       "0"
      ]
     },
     "execution_count": 21,
     "metadata": {},
     "output_type": "execute_result"
    }
   ],
   "source": [
    "True * False\n"
   ]
  },
  {
   "cell_type": "code",
   "execution_count": 22,
   "id": "3bb25922",
   "metadata": {},
   "outputs": [
    {
     "data": {
      "text/plain": [
       "1"
      ]
     },
     "execution_count": 22,
     "metadata": {},
     "output_type": "execute_result"
    }
   ],
   "source": [
    "True + False"
   ]
  },
  {
   "cell_type": "code",
   "execution_count": 23,
   "id": "6a5134e4",
   "metadata": {},
   "outputs": [
    {
     "data": {
      "text/plain": [
       "1"
      ]
     },
     "execution_count": 23,
     "metadata": {},
     "output_type": "execute_result"
    }
   ],
   "source": [
    "True + False * True - False"
   ]
  },
  {
   "cell_type": "code",
   "execution_count": 28,
   "id": "0c533d32",
   "metadata": {},
   "outputs": [],
   "source": [
    "n = 5+7j"
   ]
  },
  {
   "cell_type": "code",
   "execution_count": 25,
   "id": "d2ce77dd",
   "metadata": {},
   "outputs": [
    {
     "data": {
      "text/plain": [
       "complex"
      ]
     },
     "execution_count": 25,
     "metadata": {},
     "output_type": "execute_result"
    }
   ],
   "source": [
    "type(n)"
   ]
  },
  {
   "cell_type": "code",
   "execution_count": 29,
   "id": "20956e73",
   "metadata": {},
   "outputs": [],
   "source": [
    "n = 10+4J"
   ]
  },
  {
   "cell_type": "code",
   "execution_count": 30,
   "id": "24026249",
   "metadata": {},
   "outputs": [
    {
     "data": {
      "text/plain": [
       "(10+4j)"
      ]
     },
     "execution_count": 30,
     "metadata": {},
     "output_type": "execute_result"
    }
   ],
   "source": [
    "n"
   ]
  },
  {
   "cell_type": "code",
   "execution_count": 31,
   "id": "f03e0c8f",
   "metadata": {},
   "outputs": [
    {
     "data": {
      "text/plain": [
       "10.0"
      ]
     },
     "execution_count": 31,
     "metadata": {},
     "output_type": "execute_result"
    }
   ],
   "source": [
    "n.real"
   ]
  },
  {
   "cell_type": "code",
   "execution_count": 34,
   "id": "7349aad4",
   "metadata": {},
   "outputs": [
    {
     "ename": "SyntaxError",
     "evalue": "invalid syntax (Temp/ipykernel_12924/395983660.py, line 1)",
     "output_type": "error",
     "traceback": [
      "\u001b[1;36m  File \u001b[1;32m\"C:\\Users\\LENOVO\\AppData\\Local\\Temp/ipykernel_12924/395983660.py\"\u001b[1;36m, line \u001b[1;32m1\u001b[0m\n\u001b[1;33m    n.\u001b[0m\n\u001b[1;37m      ^\u001b[0m\n\u001b[1;31mSyntaxError\u001b[0m\u001b[1;31m:\u001b[0m invalid syntax\n"
     ]
    }
   ],
   "source": [
    "n."
   ]
  },
  {
   "cell_type": "code",
   "execution_count": 33,
   "id": "e79b4ac3",
   "metadata": {},
   "outputs": [
    {
     "ename": "AttributeError",
     "evalue": "'complex' object has no attribute 'Congugate'",
     "output_type": "error",
     "traceback": [
      "\u001b[1;31m---------------------------------------------------------------------------\u001b[0m",
      "\u001b[1;31mAttributeError\u001b[0m                            Traceback (most recent call last)",
      "\u001b[1;32m~\\AppData\\Local\\Temp/ipykernel_12924/2214898281.py\u001b[0m in \u001b[0;36m<module>\u001b[1;34m\u001b[0m\n\u001b[1;32m----> 1\u001b[1;33m \u001b[0mn\u001b[0m\u001b[1;33m.\u001b[0m\u001b[0mCongugate\u001b[0m\u001b[1;33m\u001b[0m\u001b[1;33m\u001b[0m\u001b[0m\n\u001b[0m",
      "\u001b[1;31mAttributeError\u001b[0m: 'complex' object has no attribute 'Congugate'"
     ]
    }
   ],
   "source": [
    "n.Congugate"
   ]
  },
  {
   "cell_type": "code",
   "execution_count": 35,
   "id": "3a028bc2",
   "metadata": {},
   "outputs": [],
   "source": [
    "l=[1,2,3,4,5,6,7,8,9,\"satya\",True,5+3j,567.79]"
   ]
  },
  {
   "cell_type": "code",
   "execution_count": 36,
   "id": "06d634bb",
   "metadata": {},
   "outputs": [
    {
     "data": {
      "text/plain": [
       "list"
      ]
     },
     "execution_count": 36,
     "metadata": {},
     "output_type": "execute_result"
    }
   ],
   "source": [
    "type(l)"
   ]
  },
  {
   "cell_type": "code",
   "execution_count": 39,
   "id": "fb9b8c26",
   "metadata": {},
   "outputs": [
    {
     "data": {
      "text/plain": [
       "True"
      ]
     },
     "execution_count": 39,
     "metadata": {},
     "output_type": "execute_result"
    }
   ],
   "source": [
    "l[10]"
   ]
  },
  {
   "cell_type": "code",
   "execution_count": 41,
   "id": "e74618b8",
   "metadata": {},
   "outputs": [],
   "source": [
    "t = (3,4,5,6,\"satya\",\"44567\")"
   ]
  },
  {
   "cell_type": "code",
   "execution_count": 42,
   "id": "6c1803ce",
   "metadata": {},
   "outputs": [
    {
     "data": {
      "text/plain": [
       "tuple"
      ]
     },
     "execution_count": 42,
     "metadata": {},
     "output_type": "execute_result"
    }
   ],
   "source": [
    "type(t)"
   ]
  },
  {
   "cell_type": "code",
   "execution_count": 46,
   "id": "4433dc6d",
   "metadata": {},
   "outputs": [],
   "source": [
    "s = {'a': \"Satya\" , 'b' : \"Ram\"}"
   ]
  },
  {
   "cell_type": "code",
   "execution_count": 47,
   "id": "fb9c725d",
   "metadata": {},
   "outputs": [
    {
     "data": {
      "text/plain": [
       "dict"
      ]
     },
     "execution_count": 47,
     "metadata": {},
     "output_type": "execute_result"
    }
   ],
   "source": [
    "type(s)"
   ]
  },
  {
   "cell_type": "code",
   "execution_count": 48,
   "id": "a92bd94a",
   "metadata": {},
   "outputs": [],
   "source": [
    "d = {0}"
   ]
  },
  {
   "cell_type": "code",
   "execution_count": 49,
   "id": "50c09437",
   "metadata": {},
   "outputs": [],
   "source": [
    "s = [23,45,67,90,\"saty\"]"
   ]
  },
  {
   "cell_type": "code",
   "execution_count": 50,
   "id": "b4b34e2d",
   "metadata": {},
   "outputs": [
    {
     "data": {
      "text/plain": [
       "list"
      ]
     },
     "execution_count": 50,
     "metadata": {},
     "output_type": "execute_result"
    }
   ],
   "source": [
    "type(s)"
   ]
  },
  {
   "cell_type": "code",
   "execution_count": null,
   "id": "dcc88844",
   "metadata": {},
   "outputs": [],
   "source": [
    "n."
   ]
  }
 ],
 "metadata": {
  "kernelspec": {
   "display_name": "Python 3 (ipykernel)",
   "language": "python",
   "name": "python3"
  },
  "language_info": {
   "codemirror_mode": {
    "name": "ipython",
    "version": 3
   },
   "file_extension": ".py",
   "mimetype": "text/x-python",
   "name": "python",
   "nbconvert_exporter": "python",
   "pygments_lexer": "ipython3",
   "version": "3.9.7"
  }
 },
 "nbformat": 4,
 "nbformat_minor": 5
}
